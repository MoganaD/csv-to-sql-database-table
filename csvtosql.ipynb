{
 "cells": [
  {
   "cell_type": "code",
   "execution_count": 58,
   "id": "e8a4e701",
   "metadata": {},
   "outputs": [
    {
     "name": "stdout",
     "output_type": "stream",
     "text": [
      "('\\ufeff1', 'amin', '21')\n",
      "('2', 'ruben', '25')\n",
      "('3', 'jasmine', '30')\n",
      "('4', 'sara', '23')\n",
      "('5', 'kabil', '21')\n"
     ]
    }
   ],
   "source": [
    "# Import modules\n",
    "import csv\n",
    "import sqlite3\n",
    "\n",
    "# Connect to the geeks database (publicly available database)\n",
    "connection = sqlite3.connect('g4g.db')\n",
    "\n",
    "# Create a cursor object to execute\n",
    "# SQL queries on a database table\n",
    "cursor = connection.cursor()\n",
    "\n",
    "# Create SQL table with Definition\n",
    "create_table = '''CREATE TABLE classstudent(\n",
    "\t\t\t\tid  NOT NULL,\n",
    "\t\t\t\tname NOT NULL,\n",
    "\t\t\t\tage NOT NULL);\n",
    "\t\t\t\t'''\n",
    "\n",
    "# Creating the table into our\n",
    "# database\n",
    "cursor.execute(create_table)\n",
    "\n",
    "# Opening the person-records.csv file\n",
    "file = open('person.csv')\n",
    "\n",
    "# Reading the contents of the\n",
    "# person-records.csv file\n",
    "contents = csv.reader(file)\n",
    "\n",
    "# SQL query to insert data into the\n",
    "# person table\n",
    "insert_records = \"INSERT INTO classstudent (id, name, age) VALUES(?, ?, ?)\"\n",
    "\n",
    "# Importing the contents of the file\n",
    "# into our person table\n",
    "cursor.executemany(insert_records, contents)\n",
    "\n",
    "# SQL query to retrieve all data from\n",
    "# the person table To verify that the\n",
    "# data of the csv file has been successfully\n",
    "# inserted into the table\n",
    "select_all = \"SELECT * FROM classstudent\"\n",
    "rows = cursor.execute(select_all).fetchall()\n",
    "\n",
    "# Output to the console screen\n",
    "for r in rows:\n",
    "\tprint(r)\n",
    "\n",
    "# Committing the changes\n",
    "connection.commit()\n",
    "\n",
    "# closing the database connection\n",
    "connection.close()\n"
   ]
  },
  {
   "cell_type": "code",
   "execution_count": null,
   "id": "85cce240",
   "metadata": {},
   "outputs": [],
   "source": []
  }
 ],
 "metadata": {
  "kernelspec": {
   "display_name": "Python 3 (ipykernel)",
   "language": "python",
   "name": "python3"
  },
  "language_info": {
   "codemirror_mode": {
    "name": "ipython",
    "version": 3
   },
   "file_extension": ".py",
   "mimetype": "text/x-python",
   "name": "python",
   "nbconvert_exporter": "python",
   "pygments_lexer": "ipython3",
   "version": "3.9.7"
  }
 },
 "nbformat": 4,
 "nbformat_minor": 5
}
